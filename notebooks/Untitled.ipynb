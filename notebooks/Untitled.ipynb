{
 "cells": [
  {
   "cell_type": "code",
   "execution_count": 23,
   "id": "54881e60",
   "metadata": {},
   "outputs": [],
   "source": [
    "import face_recognition\n",
    "\n",
    "# Often instead of just checking if two faces match or not (True or False), it's helpful to see how similar they are.\n",
    "# You can do that by using the face_distance function.\n",
    "\n",
    "# The model was trained in a way that faces with a distance of 0.6 or less should be a match. But if you want to\n",
    "# be more strict, you can look for a smaller face distance. For example, using a 0.55 cutoff would reduce false\n",
    "# positive matches at the risk of more false negatives.\n",
    "\n",
    "# Note: This isn't exactly the same as a \"percent match\". The scale isn't linear. But you can assume that images with a\n",
    "# smaller distance are more similar to each other than ones with a larger distance.\n",
    "\n",
    "# Load some images to compare against\n",
    "image1= face_recognition.load_image_file(\"../raw_data/1.jpg\")\n",
    "image2= face_recognition.load_image_file(\"../raw_data/2.jpg\")\n",
    "image3= face_recognition.load_image_file(\"../raw_data/3.jpg\")\n",
    "#image4= face_recognition.load_image_file(\"../raw_data/4.jpg\")\n",
    "#image5= face_recognition.load_image_file(\"../raw_data/5.jpg\")\n",
    "image6= face_recognition.load_image_file(\"../raw_data/6.jpg\")\n",
    "image7= face_recognition.load_image_file(\"../raw_data/7.jpg\")\n",
    "image8= face_recognition.load_image_file(\"../raw_data/8.jpg\")"
   ]
  },
  {
   "cell_type": "code",
   "execution_count": 24,
   "id": "e042e706",
   "metadata": {},
   "outputs": [],
   "source": [
    "encoding1 = face_recognition.face_encodings(image1)[0]\n",
    "encoding2 = face_recognition.face_encodings(image2)[0]\n",
    "encoding3 = face_recognition.face_encodings(image3)[0]\n",
    "#encoding4 = face_recognition.face_encodings(image4)[0]\n",
    "#encoding5 = face_recognition.face_encodings(image5)[0]\n",
    "encoding6 = face_recognition.face_encodings(image6)[0]\n",
    "encoding7 = face_recognition.face_encodings(image7)[0]\n",
    "encoding8 = face_recognition.face_encodings(image8)[0]"
   ]
  },
  {
   "cell_type": "code",
   "execution_count": 32,
   "id": "5ca31696",
   "metadata": {},
   "outputs": [],
   "source": [
    "avg = (encoding1+encoding2+encoding3+encoding6+encoding7+encoding8) / 6"
   ]
  },
  {
   "cell_type": "code",
   "execution_count": 54,
   "id": "140d110a",
   "metadata": {},
   "outputs": [
    {
     "data": {
      "text/plain": [
       "array([-0.05895312,  0.0745253 ,  0.03380865, -0.04731128, -0.08491885,\n",
       "       -0.02961966, -0.05191092, -0.10862959,  0.14372534, -0.07666109,\n",
       "        0.27531608, -0.00215914, -0.22524711, -0.10346345, -0.02881772,\n",
       "        0.10590863, -0.15179179, -0.10992581, -0.01464245, -0.03897626,\n",
       "        0.09400089,  0.03049925,  0.04361126,  0.02129004, -0.11924487,\n",
       "       -0.30149831, -0.06317274, -0.0645417 ,  0.06719439, -0.10945869,\n",
       "        0.0076423 ,  0.05229391, -0.19245138, -0.06429987,  0.02065386,\n",
       "        0.08652538, -0.07043852, -0.06225016,  0.19108021,  0.03459134,\n",
       "       -0.14663414,  0.01323044, -0.02724313,  0.27925713,  0.18702968,\n",
       "        0.03974114,  0.02003187, -0.15192135,  0.10985727, -0.24433079,\n",
       "        0.07107684,  0.16333052,  0.07042256,  0.06401812,  0.0436044 ,\n",
       "       -0.15644974,  0.04818465,  0.10099875, -0.19695896,  0.06098775,\n",
       "        0.06687803, -0.02233723,  0.00497208, -0.08505531,  0.21065185,\n",
       "        0.05436892, -0.11417659, -0.14432085,  0.11005539, -0.13054259,\n",
       "       -0.10125365,  0.11344694, -0.13645897, -0.19573336, -0.29942531,\n",
       "        0.02756927,  0.35478593,  0.12477077, -0.18834226,  0.00852417,\n",
       "       -0.05529355, -0.00863172,  0.10900245,  0.06525503, -0.03068945,\n",
       "       -0.02844287, -0.10301634,  0.00854152,  0.19495285, -0.03673798,\n",
       "       -0.09611909,  0.23435274, -0.00139264,  0.06649028,  0.05265563,\n",
       "        0.05891484, -0.07191548,  0.03963904, -0.13435482, -0.03143024,\n",
       "        0.04344594, -0.07645156, -0.00183903,  0.13006889, -0.15507843,\n",
       "        0.17883338, -0.01178621,  0.01827412,  0.01456133, -0.05132867,\n",
       "       -0.13738021, -0.00994921,  0.15100468, -0.28005914,  0.26580951,\n",
       "        0.18423581,  0.10626658,  0.12092329,  0.08839736,  0.04223279,\n",
       "       -0.02754693, -0.0313828 , -0.16761477, -0.04406595,  0.02360056,\n",
       "       -0.02829835,  0.05815861,  0.00882281])"
      ]
     },
     "execution_count": 54,
     "metadata": {},
     "output_type": "execute_result"
    }
   ],
   "source": [
    "avg"
   ]
  },
  {
   "cell_type": "code",
   "execution_count": 46,
   "id": "0bf8b3d3",
   "metadata": {},
   "outputs": [
    {
     "data": {
      "text/plain": [
       "array([0.65545355])"
      ]
     },
     "execution_count": 46,
     "metadata": {},
     "output_type": "execute_result"
    }
   ],
   "source": [
    "face_recognition.face_distance([avg], image_to_test_encoding)"
   ]
  },
  {
   "cell_type": "code",
   "execution_count": 52,
   "id": "9fae1f71",
   "metadata": {},
   "outputs": [
    {
     "name": "stdout",
     "output_type": "stream",
     "text": [
      "The test image has a distance of 0.63 from known image #0\n",
      "- With a normal cutoff of 0.6, would the test image match the known image? False\n",
      "- With a very strict cutoff of 0.5, would the test image match the known image? False\n",
      "\n"
     ]
    }
   ],
   "source": [
    "known_encodings = [\n",
    "    encoding1,\n",
    "    encoding2,\n",
    "    encoding3,\n",
    "    encoding6,\n",
    "    encoding7,\n",
    "    encoding8\n",
    "]\n",
    "\n",
    "# Load a test image and get encondings for it\n",
    "test_image=\"../raw_data/no/2.jpg\"\n",
    "image_to_test = face_recognition.load_image_file(test_image)\n",
    "image_to_test_encoding = face_recognition.face_encodings(image_to_test)[0]\n",
    "\n",
    "# See how far apart the test image is from the known faces\n",
    "face_distances = face_recognition.face_distance([avg], image_to_test_encoding)\n",
    "\n",
    "for i, face_distance in enumerate(face_distances):\n",
    "    print(\"The test image has a distance of {:.2} from known image #{}\".format(face_distance, i))\n",
    "    print(\"- With a normal cutoff of 0.6, would the test image match the known image? {}\".format(face_distance < 0.6))\n",
    "    print(\"- With a very strict cutoff of 0.5, would the test image match the known image? {}\".format(face_distance < 0.5))\n",
    "    print()"
   ]
  },
  {
   "cell_type": "code",
   "execution_count": 45,
   "id": "adf729b3",
   "metadata": {},
   "outputs": [
    {
     "name": "stdout",
     "output_type": "stream",
     "text": [
      "The test image has a distance of 0.66 from known image #0\n",
      "- With a normal cutoff of 0.6, would the test image match the known image? False\n",
      "- With a very strict cutoff of 0.5, would the test image match the known image? False\n",
      "\n"
     ]
    }
   ],
   "source": [
    "test_image=\"../raw_data/no/1.jpg\"\n",
    "image_to_test = face_recognition.load_image_file(test_image)\n",
    "image_to_test_encoding = face_recognition.face_encodings(image_to_test)[0]\n",
    "\n",
    "# See how far apart the test image is from the known faces\n",
    "face_distances = face_recognition.face_distance([avg], image_to_test_encoding)\n",
    "\n",
    "for i, face_distance in enumerate(face_distances):\n",
    "    print(\"The test image has a distance of {:.2} from known image #{}\".format(face_distance, i))\n",
    "    print(\"- With a normal cutoff of 0.6, would the test image match the known image? {}\".format(face_distance < 0.6))\n",
    "    print(\"- With a very strict cutoff of 0.5, would the test image match the known image? {}\".format(face_distance < 0.5))\n",
    "    print()"
   ]
  },
  {
   "cell_type": "code",
   "execution_count": 71,
   "id": "da246b5b",
   "metadata": {},
   "outputs": [],
   "source": [
    "avg=0"
   ]
  },
  {
   "cell_type": "code",
   "execution_count": 72,
   "id": "61ab3d8f",
   "metadata": {},
   "outputs": [],
   "source": [
    "def compare(image):\n",
    "    avg=np.array([-0.05895312,  0.0745253 ,  0.03380865, -0.04731128, -0.08491885,\n",
    "       -0.02961966, -0.05191092, -0.10862959,  0.14372534, -0.07666109,\n",
    "        0.27531608, -0.00215914, -0.22524711, -0.10346345, -0.02881772,\n",
    "        0.10590863, -0.15179179, -0.10992581, -0.01464245, -0.03897626,\n",
    "        0.09400089,  0.03049925,  0.04361126,  0.02129004, -0.11924487,\n",
    "       -0.30149831, -0.06317274, -0.0645417 ,  0.06719439, -0.10945869,\n",
    "        0.0076423 ,  0.05229391, -0.19245138, -0.06429987,  0.02065386,\n",
    "        0.08652538, -0.07043852, -0.06225016,  0.19108021,  0.03459134,\n",
    "       -0.14663414,  0.01323044, -0.02724313,  0.27925713,  0.18702968,\n",
    "        0.03974114,  0.02003187, -0.15192135,  0.10985727, -0.24433079,\n",
    "        0.07107684,  0.16333052,  0.07042256,  0.06401812,  0.0436044 ,\n",
    "       -0.15644974,  0.04818465,  0.10099875, -0.19695896,  0.06098775,\n",
    "        0.06687803, -0.02233723,  0.00497208, -0.08505531,  0.21065185,\n",
    "        0.05436892, -0.11417659, -0.14432085,  0.11005539, -0.13054259,\n",
    "       -0.10125365,  0.11344694, -0.13645897, -0.19573336, -0.29942531,\n",
    "        0.02756927,  0.35478593,  0.12477077, -0.18834226,  0.00852417,\n",
    "       -0.05529355, -0.00863172,  0.10900245,  0.06525503, -0.03068945,\n",
    "       -0.02844287, -0.10301634,  0.00854152,  0.19495285, -0.03673798,\n",
    "       -0.09611909,  0.23435274, -0.00139264,  0.06649028,  0.05265563,\n",
    "        0.05891484, -0.07191548,  0.03963904, -0.13435482, -0.03143024,\n",
    "        0.04344594, -0.07645156, -0.00183903,  0.13006889, -0.15507843,\n",
    "        0.17883338, -0.01178621,  0.01827412,  0.01456133, -0.05132867,\n",
    "       -0.13738021, -0.00994921,  0.15100468, -0.28005914,  0.26580951,\n",
    "        0.18423581,  0.10626658,  0.12092329,  0.08839736,  0.04223279,\n",
    "       -0.02754693, -0.0313828 , -0.16761477, -0.04406595,  0.02360056,\n",
    "       -0.02829835,  0.05815861,  0.00882281])\n",
    "    image_to_test = face_recognition.load_image_file(image)\n",
    "    image_to_test_encoding = face_recognition.face_encodings(image_to_test)[0]\n",
    "    face_distances = face_recognition.face_distance([avg], image_to_test_encoding)\n",
    "    if face_distances[0]<0.70:\n",
    "        return 'Match!'\n",
    "    else:\n",
    "        return 'not a match'"
   ]
  },
  {
   "cell_type": "code",
   "execution_count": 73,
   "id": "d2ecd287",
   "metadata": {},
   "outputs": [
    {
     "data": {
      "text/plain": [
       "'Match!'"
      ]
     },
     "execution_count": 73,
     "metadata": {},
     "output_type": "execute_result"
    }
   ],
   "source": [
    "compare('../raw_data/swipe/3.jpg')"
   ]
  },
  {
   "cell_type": "code",
   "execution_count": null,
   "id": "c8d9f625",
   "metadata": {},
   "outputs": [],
   "source": []
  }
 ],
 "metadata": {
  "kernelspec": {
   "display_name": "Python 3",
   "language": "python",
   "name": "python3"
  },
  "language_info": {
   "codemirror_mode": {
    "name": "ipython",
    "version": 3
   },
   "file_extension": ".py",
   "mimetype": "text/x-python",
   "name": "python",
   "nbconvert_exporter": "python",
   "pygments_lexer": "ipython3",
   "version": "3.8.6"
  },
  "toc": {
   "base_numbering": 1,
   "nav_menu": {},
   "number_sections": true,
   "sideBar": true,
   "skip_h1_title": false,
   "title_cell": "Table of Contents",
   "title_sidebar": "Contents",
   "toc_cell": false,
   "toc_position": {},
   "toc_section_display": true,
   "toc_window_display": false
  },
  "varInspector": {
   "cols": {
    "lenName": 16,
    "lenType": 16,
    "lenVar": 40
   },
   "kernels_config": {
    "python": {
     "delete_cmd_postfix": "",
     "delete_cmd_prefix": "del ",
     "library": "var_list.py",
     "varRefreshCmd": "print(var_dic_list())"
    },
    "r": {
     "delete_cmd_postfix": ") ",
     "delete_cmd_prefix": "rm(",
     "library": "var_list.r",
     "varRefreshCmd": "cat(var_dic_list()) "
    }
   },
   "types_to_exclude": [
    "module",
    "function",
    "builtin_function_or_method",
    "instance",
    "_Feature"
   ],
   "window_display": false
  }
 },
 "nbformat": 4,
 "nbformat_minor": 5
}
